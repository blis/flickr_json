{
 "metadata": {
  "name": "",
  "signature": "sha256:12c07ddd3c34d5397e35a525cc213f515e4fe85220b19a72a745140d6830f447"
 },
 "nbformat": 3,
 "nbformat_minor": 0,
 "worksheets": [
  {
   "cells": [
    {
     "cell_type": "code",
     "collapsed": false,
     "input": [
      "import urllib\n",
      "import json\n",
      "from IPython.display import Image"
     ],
     "language": "python",
     "metadata": {},
     "outputs": [],
     "prompt_number": 221
    },
    {
     "cell_type": "code",
     "collapsed": false,
     "input": [
      "tags = \"baseball\""
     ],
     "language": "python",
     "metadata": {},
     "outputs": [],
     "prompt_number": 230
    },
    {
     "cell_type": "code",
     "collapsed": false,
     "input": [
      "flickr_url = \"https://www.flickr.com/services/feeds/photos_public.gne?tags=\"+tags+\"&format=json\""
     ],
     "language": "python",
     "metadata": {},
     "outputs": [],
     "prompt_number": 231
    },
    {
     "cell_type": "code",
     "collapsed": false,
     "input": [
      "response = urllib.request.urlopen(flickr_url)"
     ],
     "language": "python",
     "metadata": {},
     "outputs": [],
     "prompt_number": 232
    },
    {
     "cell_type": "code",
     "collapsed": false,
     "input": [
      "flickr_json_string = response.read().decode('utf-8')"
     ],
     "language": "python",
     "metadata": {},
     "outputs": [],
     "prompt_number": 233
    },
    {
     "cell_type": "code",
     "collapsed": false,
     "input": [
      "flickr_json = json.loads(flickr_json_string[15:-1])"
     ],
     "language": "python",
     "metadata": {},
     "outputs": [],
     "prompt_number": 234
    },
    {
     "cell_type": "code",
     "collapsed": false,
     "input": [
      "flickr_json['items'][0]"
     ],
     "language": "python",
     "metadata": {},
     "outputs": [
      {
       "metadata": {},
       "output_type": "pyout",
       "prompt_number": 235,
       "text": [
        "{'author': 'nobody@flickr.com (Robby Virus)',\n",
        " 'published': '2014-10-31T23:06:32Z',\n",
        " 'media': {'m': 'https://farm4.staticflickr.com/3943/15490144648_4a29af8617_m.jpg'},\n",
        " 'link': 'https://www.flickr.com/photos/25229906@N00/15490144648/',\n",
        " 'date_taken': '2014-10-29T20:24:05-08:00',\n",
        " 'tags': 'california street sanfrancisco game fire crazy baseball sweet district victory kansascity vandalism mission seventh riots 7th crowds champions worldseries royals unruly 2014 wooohooo rioting celebtration hoodlams',\n",
        " 'title': '2014 World Series Victory Celebration, San Francisco, CA',\n",
        " 'description': ' <p><a href=\"https://www.flickr.com/people/25229906@N00/\">Robby Virus</a> posted a photo:</p> <p><a href=\"https://www.flickr.com/photos/25229906@N00/15490144648/\" title=\"2014 World Series Victory Celebration, San Francisco, CA\"><img src=\"https://farm4.staticflickr.com/3943/15490144648_4a29af8617_m.jpg\" width=\"240\" height=\"180\" alt=\"2014 World Series Victory Celebration, San Francisco, CA\" /></a></p> <p>I was down in The Mission in San Francisco, California, watching the 7th game of the 2014 World Series, pitting the San Francisco Giants against the Kansas City Royals. After the Giants nail-biting victory I strolled down Mission Street and observed the festivities. The streets were packed with fans and rioters.</p>',\n",
        " 'author_id': '25229906@N00'}"
       ]
      }
     ],
     "prompt_number": 235
    },
    {
     "cell_type": "code",
     "collapsed": true,
     "input": [
      "Image(url=flickr_json['items'][0]['media']['m'])"
     ],
     "language": "python",
     "metadata": {},
     "outputs": [
      {
       "html": [
        "<img src=\"https://farm4.staticflickr.com/3943/15490144648_4a29af8617_m.jpg\"/>"
       ],
       "metadata": {},
       "output_type": "pyout",
       "prompt_number": 236,
       "text": [
        "<IPython.core.display.Image at 0x1071ac358>"
       ]
      }
     ],
     "prompt_number": 236
    },
    {
     "cell_type": "code",
     "collapsed": false,
     "input": [
      "for item in flickr_json['items']:\n",
      "    print(item['link']+\"sizes/\")\n",
      "    display(Image(url=item['media']['m']))"
     ],
     "language": "python",
     "metadata": {},
     "outputs": [
      {
       "output_type": "stream",
       "stream": "stdout",
       "text": [
        "https://www.flickr.com/photos/25229906@N00/15490144648/sizes/\n"
       ]
      },
      {
       "html": [
        "<img src=\"https://farm4.staticflickr.com/3943/15490144648_4a29af8617_m.jpg\"/>"
       ],
       "metadata": {},
       "output_type": "display_data",
       "text": [
        "<IPython.core.display.Image at 0x1071a1550>"
       ]
      },
      {
       "output_type": "stream",
       "stream": "stdout",
       "text": [
        "https://www.flickr.com/photos/25229906@N00/15490406357/sizes/\n"
       ]
      },
      {
       "html": [
        "<img src=\"https://farm8.staticflickr.com/7544/15490406357_7853a0a91a_m.jpg\"/>"
       ],
       "metadata": {},
       "output_type": "display_data",
       "text": [
        "<IPython.core.display.Image at 0x1071a1550>"
       ]
      },
      {
       "output_type": "stream",
       "stream": "stdout",
       "text": [
        "https://www.flickr.com/photos/25229906@N00/15490150027/sizes/\n"
       ]
      },
      {
       "html": [
        "<img src=\"https://farm4.staticflickr.com/3941/15490150027_1ab7ecd6d7_m.jpg\"/>"
       ],
       "metadata": {},
       "output_type": "display_data",
       "text": [
        "<IPython.core.display.Image at 0x1071a1550>"
       ]
      },
      {
       "output_type": "stream",
       "stream": "stdout",
       "text": [
        "https://www.flickr.com/photos/25229906@N00/15489716239/sizes/\n"
       ]
      },
      {
       "html": [
        "<img src=\"https://farm8.staticflickr.com/7544/15489716239_5b239d20c1_m.jpg\"/>"
       ],
       "metadata": {},
       "output_type": "display_data",
       "text": [
        "<IPython.core.display.Image at 0x1071a1550>"
       ]
      },
      {
       "output_type": "stream",
       "stream": "stdout",
       "text": [
        "https://www.flickr.com/photos/jmania/15676998175/sizes/\n"
       ]
      },
      {
       "html": [
        "<img src=\"https://farm4.staticflickr.com/3945/15676998175_96d733c7c8_m.jpg\"/>"
       ],
       "metadata": {},
       "output_type": "display_data",
       "text": [
        "<IPython.core.display.Image at 0x1071a1550>"
       ]
      },
      {
       "output_type": "stream",
       "stream": "stdout",
       "text": [
        "https://www.flickr.com/photos/25229906@N00/15675414635/sizes/\n"
       ]
      },
      {
       "html": [
        "<img src=\"https://farm6.staticflickr.com/5610/15675414635_18f1fa7820_m.jpg\"/>"
       ],
       "metadata": {},
       "output_type": "display_data",
       "text": [
        "<IPython.core.display.Image at 0x1071a1550>"
       ]
      },
      {
       "output_type": "stream",
       "stream": "stdout",
       "text": [
        "https://www.flickr.com/photos/jmania/15676997915/sizes/\n"
       ]
      },
      {
       "html": [
        "<img src=\"https://farm4.staticflickr.com/3937/15676997915_66c76d8852_m.jpg\"/>"
       ],
       "metadata": {},
       "output_type": "display_data",
       "text": [
        "<IPython.core.display.Image at 0x1071a1550>"
       ]
      },
      {
       "output_type": "stream",
       "stream": "stdout",
       "text": [
        "https://www.flickr.com/photos/25229906@N00/15675450565/sizes/\n"
       ]
      },
      {
       "html": [
        "<img src=\"https://farm8.staticflickr.com/7517/15675450565_69c5fc5b46_m.jpg\"/>"
       ],
       "metadata": {},
       "output_type": "display_data",
       "text": [
        "<IPython.core.display.Image at 0x1071a1550>"
       ]
      },
      {
       "output_type": "stream",
       "stream": "stdout",
       "text": [
        "https://www.flickr.com/photos/25229906@N00/15490820050/sizes/\n"
       ]
      },
      {
       "html": [
        "<img src=\"https://farm8.staticflickr.com/7565/15490820050_544bdb7566_m.jpg\"/>"
       ],
       "metadata": {},
       "output_type": "display_data",
       "text": [
        "<IPython.core.display.Image at 0x1071a1550>"
       ]
      },
      {
       "output_type": "stream",
       "stream": "stdout",
       "text": [
        "https://www.flickr.com/photos/jmania/15675077671/sizes/\n"
       ]
      },
      {
       "html": [
        "<img src=\"https://farm8.staticflickr.com/7506/15675077671_c82fd39021_m.jpg\"/>"
       ],
       "metadata": {},
       "output_type": "display_data",
       "text": [
        "<IPython.core.display.Image at 0x1071a1550>"
       ]
      },
      {
       "output_type": "stream",
       "stream": "stdout",
       "text": [
        "https://www.flickr.com/photos/jmania/15675077501/sizes/\n"
       ]
      },
      {
       "html": [
        "<img src=\"https://farm6.staticflickr.com/5606/15675077501_d2f8fd0d85_m.jpg\"/>"
       ],
       "metadata": {},
       "output_type": "display_data",
       "text": [
        "<IPython.core.display.Image at 0x1071a1550>"
       ]
      },
      {
       "output_type": "stream",
       "stream": "stdout",
       "text": [
        "https://www.flickr.com/photos/25229906@N00/15675662615/sizes/\n"
       ]
      },
      {
       "html": [
        "<img src=\"https://farm4.staticflickr.com/3952/15675662615_8a23f5edd5_m.jpg\"/>"
       ],
       "metadata": {},
       "output_type": "display_data",
       "text": [
        "<IPython.core.display.Image at 0x1071a1550>"
       ]
      },
      {
       "output_type": "stream",
       "stream": "stdout",
       "text": [
        "https://www.flickr.com/photos/jmania/15653274306/sizes/\n"
       ]
      },
      {
       "html": [
        "<img src=\"https://farm8.staticflickr.com/7532/15653274306_8d18172bef_m.jpg\"/>"
       ],
       "metadata": {},
       "output_type": "display_data",
       "text": [
        "<IPython.core.display.Image at 0x1071a1550>"
       ]
      },
      {
       "output_type": "stream",
       "stream": "stdout",
       "text": [
        "https://www.flickr.com/photos/25229906@N00/15676894092/sizes/\n"
       ]
      },
      {
       "html": [
        "<img src=\"https://farm8.staticflickr.com/7513/15676894092_ac33dba05e_m.jpg\"/>"
       ],
       "metadata": {},
       "output_type": "display_data",
       "text": [
        "<IPython.core.display.Image at 0x1071a1550>"
       ]
      },
      {
       "output_type": "stream",
       "stream": "stdout",
       "text": [
        "https://www.flickr.com/photos/25229906@N00/15490177237/sizes/\n"
       ]
      },
      {
       "html": [
        "<img src=\"https://farm8.staticflickr.com/7568/15490177237_10e8c82144_m.jpg\"/>"
       ],
       "metadata": {},
       "output_type": "display_data",
       "text": [
        "<IPython.core.display.Image at 0x1071a1550>"
       ]
      },
      {
       "output_type": "stream",
       "stream": "stdout",
       "text": [
        "https://www.flickr.com/photos/25229906@N00/15490268677/sizes/\n"
       ]
      },
      {
       "html": [
        "<img src=\"https://farm4.staticflickr.com/3947/15490268677_c5e99d2802_m.jpg\"/>"
       ],
       "metadata": {},
       "output_type": "display_data",
       "text": [
        "<IPython.core.display.Image at 0x1071a1550>"
       ]
      },
      {
       "output_type": "stream",
       "stream": "stdout",
       "text": [
        "https://www.flickr.com/photos/25229906@N00/15055327024/sizes/\n"
       ]
      },
      {
       "html": [
        "<img src=\"https://farm4.staticflickr.com/3947/15055327024_e1218bb87d_m.jpg\"/>"
       ],
       "metadata": {},
       "output_type": "display_data",
       "text": [
        "<IPython.core.display.Image at 0x1071a1550>"
       ]
      },
      {
       "output_type": "stream",
       "stream": "stdout",
       "text": [
        "https://www.flickr.com/photos/25229906@N00/15651760686/sizes/\n"
       ]
      },
      {
       "html": [
        "<img src=\"https://farm6.staticflickr.com/5601/15651760686_f45849a8fc_m.jpg\"/>"
       ],
       "metadata": {},
       "output_type": "display_data",
       "text": [
        "<IPython.core.display.Image at 0x1071a1550>"
       ]
      },
      {
       "output_type": "stream",
       "stream": "stdout",
       "text": [
        "https://www.flickr.com/photos/25229906@N00/15056057743/sizes/\n"
       ]
      },
      {
       "html": [
        "<img src=\"https://farm4.staticflickr.com/3937/15056057743_ce9919e613_m.jpg\"/>"
       ],
       "metadata": {},
       "output_type": "display_data",
       "text": [
        "<IPython.core.display.Image at 0x1071a1550>"
       ]
      },
      {
       "output_type": "stream",
       "stream": "stdout",
       "text": [
        "https://www.flickr.com/photos/25229906@N00/15651844926/sizes/\n"
       ]
      },
      {
       "html": [
        "<img src=\"https://farm6.staticflickr.com/5611/15651844926_46efc85c12_m.jpg\"/>"
       ],
       "metadata": {},
       "output_type": "display_data",
       "text": [
        "<IPython.core.display.Image at 0x1071a1550>"
       ]
      }
     ],
     "prompt_number": 237
    },
    {
     "cell_type": "code",
     "collapsed": false,
     "input": [],
     "language": "python",
     "metadata": {},
     "outputs": [],
     "prompt_number": 237
    }
   ],
   "metadata": {}
  }
 ]
}